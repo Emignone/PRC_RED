{
 "cells": [
  {
   "cell_type": "code",
   "execution_count": 78,
   "metadata": {},
   "outputs": [],
   "source": [
    "import itertools\n"
   ]
  },
  {
   "cell_type": "code",
   "execution_count": 107,
   "metadata": {},
   "outputs": [],
   "source": [
    "binding_site = {\n",
    "    \"ASN\": [66],\n",
    "    \"GLU\": [162, 384, 403, 411],\n",
    "    \"GLN\": [281, 530],\n",
    "    \"THR\": [282],\n",
    "    \"VAL\": [351, 379, 380, 518],\n",
    "    \"HIS\": [353, 383, 387, 410, 513],\n",
    "    \"ALA\": [354, 356],\n",
    "    \"SER\": [355],\n",
    "    \"TRP\": [357],\n",
    "    \"ASP\": [358, 415, 453],\n",
    "    \"TYR\": [360, 394, 520, 523],\n",
    "    \"PHE\": [391, 457, 460, 512, 527],\n",
    "    \"GLY\": [404],\n",
    "    \"PRO\": [407],\n",
    "    \"LYS\": [454, 511],\n",
    "    \"ARG\": [522],\n",
    "    \"ZN\": [701]\n",
    "}\n"
   ]
  },
  {
   "cell_type": "code",
   "execution_count": 108,
   "metadata": {},
   "outputs": [
    {
     "data": {
      "text/plain": [
       "{'ASN': [66],\n",
       " 'GLU': [162, 384, 403, 411],\n",
       " 'GLN': [281, 530],\n",
       " 'THR': [282],\n",
       " 'VAL': [351, 379, 380, 518],\n",
       " 'HIS': [353, 383, 387, 410, 513],\n",
       " 'ALA': [354, 356],\n",
       " 'SER': [355],\n",
       " 'TRP': [357],\n",
       " 'ASP': [358, 415, 453],\n",
       " 'TYR': [360, 394, 520, 523],\n",
       " 'PHE': [391, 457, 460, 512, 527],\n",
       " 'GLY': [404],\n",
       " 'PRO': [407],\n",
       " 'LYS': [454, 511],\n",
       " 'ARG': [522],\n",
       " 'ZN': [701]}"
      ]
     },
     "execution_count": 108,
     "metadata": {},
     "output_type": "execute_result"
    }
   ],
   "source": [
    "dif = 0\n",
    "# add the dif to the binding site\n",
    "for k, v in binding_site.items():\n",
    "    binding_site[k] = [x + dif for x in v]\n",
    "\n",
    "binding_site"
   ]
  },
  {
   "cell_type": "code",
   "execution_count": 109,
   "metadata": {},
   "outputs": [],
   "source": [
    "# return the values of the dictionary as a list\n",
    "def get_binding_site():\n",
    "    binding_site_list = []\n",
    "    for k, v in binding_site.items():\n",
    "        binding_site_list.extend(v)\n",
    "    return binding_site_list"
   ]
  },
  {
   "cell_type": "code",
   "execution_count": 110,
   "metadata": {},
   "outputs": [],
   "source": [
    "binding_site_values = get_binding_site()"
   ]
  },
  {
   "cell_type": "code",
   "execution_count": 111,
   "metadata": {},
   "outputs": [
    {
     "name": "stdout",
     "output_type": "stream",
     "text": [
      "66,162,384,403,411,281,530,282,351,379,380,518,353,383,387,410,513,354,356,355,357,358,415,453,360,394,520,523,391,457,460,512,527,404,407,454,511,522,701\n"
     ]
    }
   ],
   "source": [
    "\n",
    "print(*binding_site_values, sep=\",\")\n"
   ]
  },
  {
   "cell_type": "code",
   "execution_count": 112,
   "metadata": {},
   "outputs": [
    {
     "data": {
      "text/plain": [
       "'66,162,384,403,411,281,530,282,351,379,380,518,353,383,387,410,513,354,356,355,357,358,415,453,360,394,520,523,391,457,460,512,527,404,407,454,511,522,701'"
      ]
     },
     "execution_count": 112,
     "metadata": {},
     "output_type": "execute_result"
    }
   ],
   "source": [
    "binding_site = \",\".join(str(v) for v in binding_site_values)\n",
    "binding_site"
   ]
  },
  {
   "cell_type": "markdown",
   "metadata": {},
   "source": [
    "# Make .icm file to run RMSD"
   ]
  },
  {
   "cell_type": "code",
   "execution_count": 115,
   "metadata": {},
   "outputs": [
    {
     "name": "stdout",
     "output_type": "stream",
     "text": [
      "Archivo .icm generado como 'fabp4_analysis.icm'\n"
     ]
    }
   ],
   "source": [
    "rec = \"ace\"\n",
    "path = f\"/media/emilia/HDD/Documents/multiple_structures/{rec}/\"\n",
    "pdbs = [\"1o8a\",\"1o86\", \"1uze\", \"2oc2\",\"3bkl\"]\n",
    "\n",
    "extra_lines = []\n",
    "# generar_icm.py\n",
    "for i in pdbs:\n",
    "    extra_lines.append(f'openFile \"{rec}_{i}_rec.mol2\"')\n",
    "icm_lines = [\n",
    "    '#!/usr/bin/icm',\n",
    "    'call _startup',\n",
    "    '',\n",
    "    'maxFileSizeMb=10000',\n",
    "]    \n",
    "\n",
    "icm_lines += extra_lines\n",
    "\n",
    "\n",
    "\n",
    "# proximo paso: crear arrays para rmsd y hacer superimpose de esos\n",
    "\n",
    "combinations = list(itertools.combinations(pdbs, 2))\n",
    "extra_lines = []\n",
    "for p1, p2 in combinations:\n",
    "    icm_lines.append(f'rmsd_dock_{p1}_{p2}=Rarray(1,0.)')\n",
    "    idx1 = pdbs.index(p1) + 1\n",
    "    idx2 = pdbs.index(p2) + 1\n",
    "    extra_lines.append(\n",
    "        f'superimpose a_{idx1}.*/SHGEI/ca,c,n a_{idx2}.*/SHGEI/ca,c,n align'\n",
    "    )\n",
    "    # proximo paso: calc RMSD\n",
    "    extra_lines.append(\n",
    "        f'rmsd_dock_{p1}_{p2}[1]= Srmsd(a_{idx1}.*/{binding_site}/!h* a_{idx2}.*/{binding_site}/!h* chemical)'\n",
    "    )\n",
    "\n",
    "\n",
    "icm_lines += extra_lines\n",
    "\n",
    "\n",
    "# Escribir archivo\n",
    "\n",
    "with open(path + f\"{rec}_analysis.icm\", \"w\") as f:\n",
    "    for line in icm_lines:\n",
    "        f.write(line + \"\\n\")\n",
    "\n",
    "print(\"Archivo .icm generado como 'fabp4_analysis.icm'\")\n",
    "\n"
   ]
  },
  {
   "cell_type": "code",
   "execution_count": 102,
   "metadata": {},
   "outputs": [
    {
     "name": "stdout",
     "output_type": "stream",
     "text": [
      "['#!/usr/bin/icm', 'call _startup', '', 'maxFileSizeMb=10000', 'openFile \"emi_a_rec.mol2\"', 'openFile \"emi_b_rec.mol2\"', 'rmsd_dock_a_b=Rarray(1,0.)', 'superimpose a_1.*/SHGEI/ca,c,n a_2.*/SHGEI/ca,c,n align', 'rmsd_dock_a_b= Srmsd a_1.*/77,78,79,80,156,30,82,105,32,220,221,222,223,224,225,226,298,34,37,310,35,36,39,40,41,112,300,51,116,308,311,55,295,297,75,218,76,108,113,118,129,130,131,227,303,306,12/!h* a_2.*/77,78,79,80,156,30,82,105,32,220,221,222,223,224,225,226,298,34,37,310,35,36,39,40,41,112,300,51,116,308,311,55,295,297,75,218,76,108,113,118,129,130,131,227,303,306,12/!h* chemical']\n"
     ]
    }
   ],
   "source": [
    "print(icm_lines)"
   ]
  }
 ],
 "metadata": {
  "kernelspec": {
   "display_name": ".venv",
   "language": "python",
   "name": "python3"
  },
  "language_info": {
   "codemirror_mode": {
    "name": "ipython",
    "version": 3
   },
   "file_extension": ".py",
   "mimetype": "text/x-python",
   "name": "python",
   "nbconvert_exporter": "python",
   "pygments_lexer": "ipython3",
   "version": "3.12.3"
  }
 },
 "nbformat": 4,
 "nbformat_minor": 2
}
