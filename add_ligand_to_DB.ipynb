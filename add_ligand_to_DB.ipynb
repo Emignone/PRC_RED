{
 "cells": [
  {
   "cell_type": "code",
   "execution_count": 36,
   "metadata": {},
   "outputs": [
    {
     "name": "stdout",
     "output_type": "stream",
     "text": [
      "17952\n"
     ]
    }
   ],
   "source": [
    "rec = \"ace\"\n",
    "db = f\"/media/emilia/HDD/Documents/multiple_structures/{rec}/{rec}_DB_docking.sdf\"\n",
    "mols_to_add = f\"/media/emilia/HDD/Documents/multiple_structures/{rec}/ligands/{rec}_ligands.sdf\"\n",
    "\n",
    "#read db\n",
    "f=open(db,'r')\n",
    "lines=f.readlines()\n",
    "ix_db=[i for i in range(len(lines)) if lines[i]=='$$$$\\n']\n",
    "print(len(ix_db))\n"
   ]
  },
  {
   "cell_type": "markdown",
   "metadata": {},
   "source": [
    "## Add IX to mosl to be added"
   ]
  },
  {
   "cell_type": "code",
   "execution_count": 37,
   "metadata": {},
   "outputs": [],
   "source": [
    "new_file = []\n",
    "with open(mols_to_add, 'r') as molecules_file:\n",
    "    lines = molecules_file.readlines()\n",
    "    ix=[i for i in range(len(lines)) if lines[i]=='$$$$\\n']\n",
    "    ix.insert(0,-1)\n",
    "\n",
    "    for i in range(len(ix)-1):\n",
    "        mol=lines[ix[i]+1:ix[i+1]-1]\n",
    "        mol.append('M  END\\n')\n",
    "        mol.append('>  <IX> \\n')\n",
    "        mol.append(str(len(ix_db)+(i+1))+'\\n')\n",
    "        mol.append('\\n')\n",
    "        mol.append('> <Type> \\n')\n",
    "        mol.append('L\\n')\n",
    "        mol.append('\\n')\n",
    "        mol.append('$$$$\\n')\n",
    "\n",
    "    \n",
    "        for line in mol:\n",
    "            new_file.append(line)    \n",
    "\n",
    "f=open(mols_to_add,'w')\n",
    "for line in new_file:\n",
    "    f.write(line)\n",
    "f.close()"
   ]
  },
  {
   "cell_type": "markdown",
   "metadata": {},
   "source": [
    "## Merge both"
   ]
  },
  {
   "cell_type": "code",
   "execution_count": 38,
   "metadata": {},
   "outputs": [],
   "source": [
    "def merge_sdf_files(first_sdf_path, second_sdf_path, output_sdf_path):\n",
    "    with open(first_sdf_path, 'r') as f1:\n",
    "        first_content = f1.read().rstrip()  # Remove trailing newlines\n",
    "\n",
    "    with open(second_sdf_path, 'r') as f2:\n",
    "        second_content = f2.read().lstrip()  # Remove leading newlines\n",
    "\n",
    "    # Avoid double $$$$ -> only add one separator\n",
    "    if not first_content.endswith('$$$$'):\n",
    "        first_content += '\\n$$$$'\n",
    "\n",
    "    merged_content = first_content + '\\n' + second_content\n",
    "\n",
    "    with open(output_sdf_path, 'w') as out:\n",
    "        out.write(merged_content)\n",
    "\n",
    "\n",
    "# Example usage\n",
    "mols_to_add = f\"/media/emilia/HDD/Documents/multiple_structures/{rec}/ligands/{rec}_ligands.sdf\"\n",
    "merge_sdf_files(db, mols_to_add, f'/media/emilia/HDD/Documents/multiple_structures/{rec}/{rec}_DB_extended.sdf')\n"
   ]
  },
  {
   "cell_type": "code",
   "execution_count": null,
   "metadata": {},
   "outputs": [],
   "source": []
  }
 ],
 "metadata": {
  "kernelspec": {
   "display_name": ".venv",
   "language": "python",
   "name": "python3"
  },
  "language_info": {
   "codemirror_mode": {
    "name": "ipython",
    "version": 3
   },
   "file_extension": ".py",
   "mimetype": "text/x-python",
   "name": "python",
   "nbconvert_exporter": "python",
   "pygments_lexer": "ipython3",
   "version": "3.12.3"
  }
 },
 "nbformat": 4,
 "nbformat_minor": 2
}
